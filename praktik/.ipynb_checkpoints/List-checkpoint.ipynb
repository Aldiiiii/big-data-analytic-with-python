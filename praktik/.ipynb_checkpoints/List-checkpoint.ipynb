{
 "cells": [
  {
   "cell_type": "markdown",
   "id": "4245f49a-4ebc-488e-af58-e22748424ae1",
   "metadata": {},
   "source": []
  },
  {
   "cell_type": "code",
   "execution_count": 10,
   "id": "dd81f393-f0df-4300-b2ef-82b1e1c5efe2",
   "metadata": {},
   "outputs": [
    {
     "data": {
      "text/plain": [
       "7"
      ]
     },
     "execution_count": 10,
     "metadata": {},
     "output_type": "execute_result"
    }
   ],
   "source": [
    "sales = [150, 200, 300, 250, 400, 350, 450]\n",
    "len(sales)"
   ]
  },
  {
   "cell_type": "code",
   "execution_count": 11,
   "id": "56e2bde7-5ef6-49ef-9aef-fbb73a334f67",
   "metadata": {},
   "outputs": [
    {
     "data": {
      "text/plain": [
       "2100"
      ]
     },
     "execution_count": 11,
     "metadata": {},
     "output_type": "execute_result"
    }
   ],
   "source": [
    "sum(sales)"
   ]
  },
  {
   "cell_type": "code",
   "execution_count": 17,
   "id": "a4582fbb-245e-464d-ba6f-c49365aa0544",
   "metadata": {},
   "outputs": [
    {
     "name": "stdout",
     "output_type": "stream",
     "text": [
      "(1, 2, 3)\n"
     ]
    }
   ],
   "source": [
    "# Tupple\n",
    "\n",
    "my_tuple = (1,2,3)\n",
    "print(my_tuple)\n"
   ]
  },
  {
   "cell_type": "code",
   "execution_count": 19,
   "id": "16507114-de66-4896-8a71-3421f0f56d2f",
   "metadata": {},
   "outputs": [
    {
     "ename": "AttributeError",
     "evalue": "'tuple' object has no attribute 'append'",
     "output_type": "error",
     "traceback": [
      "\u001b[1;31m---------------------------------------------------------------------------\u001b[0m",
      "\u001b[1;31mAttributeError\u001b[0m                            Traceback (most recent call last)",
      "Cell \u001b[1;32mIn[19], line 2\u001b[0m\n\u001b[0;32m      1\u001b[0m \u001b[38;5;28mtuple\u001b[39m \u001b[38;5;241m=\u001b[39m (\u001b[38;5;241m1\u001b[39m,\u001b[38;5;241m2\u001b[39m,\u001b[38;5;241m3\u001b[39m)\n\u001b[1;32m----> 2\u001b[0m \u001b[38;5;28;43mtuple\u001b[39;49m\u001b[38;5;241;43m.\u001b[39;49m\u001b[43mappend\u001b[49m(\u001b[38;5;241m4\u001b[39m)\n",
      "\u001b[1;31mAttributeError\u001b[0m: 'tuple' object has no attribute 'append'"
     ]
    }
   ],
   "source": [
    "tuple = (1,2,3)\n",
    "tuple.append(4)\n",
    "\n",
    "# tuple is immutable"
   ]
  },
  {
   "cell_type": "code",
   "execution_count": 25,
   "id": "713431cc-fd91-47da-8215-164a6a51b85b",
   "metadata": {},
   "outputs": [],
   "source": [
    "# buat fungsi dengan tuple\n",
    "\n",
    "def get_student_info():\n",
    "    name = \"Alice\"\n",
    "    age = 22\n",
    "    major = \"Computer Science\"\n",
    "    return name, age, major\n",
    "\n",
    "# Menggunakan fungsi\n",
    "student_info = get_student_info()\n",
    "print(\"Informasi Mahasiswa: \", student_info)"
   ]
  },
  {
   "cell_type": "code",
   "execution_count": 28,
   "id": "f0609408-3497-498a-8420-f3b8c828f1c3",
   "metadata": {},
   "outputs": [
    {
     "name": "stdout",
     "output_type": "stream",
     "text": [
      "Alice\n",
      "25\n",
      "{'nama': 'Alice', 'usia': 26, 'jurusan': 'Ilmu Komputer', 'gaji': 50000}\n"
     ]
    }
   ],
   "source": [
    "# membuat dictionary (mirip json di js)\n",
    "data_mahasiswa = {\n",
    "    \"nama\": \"Alice\",\n",
    "    \"usia\": 25,\n",
    "    \"jurusan\": \"Ilmu Komputer\"\n",
    "}\n",
    "\n",
    "print(data_mahasiswa[\"nama\"])\n",
    "print(data_mahasiswa[\"usia\"])\n",
    "\n",
    "# menambahkan\n",
    "data_mahasiswa[\"gaji\"] = 50000\n",
    "\n",
    "# mengubah\n",
    "data_mahasiswa[\"usia\"] = 26\n",
    "\n",
    "print(data_mahasiswa)"
   ]
  },
  {
   "cell_type": "code",
   "execution_count": null,
   "id": "b2fb83b5-1506-44b0-b648-7188b9430a47",
   "metadata": {},
   "outputs": [],
   "source": []
  }
 ],
 "metadata": {
  "kernelspec": {
   "display_name": "Python 3 (ipykernel)",
   "language": "python",
   "name": "python3"
  },
  "language_info": {
   "codemirror_mode": {
    "name": "ipython",
    "version": 3
   },
   "file_extension": ".py",
   "mimetype": "text/x-python",
   "name": "python",
   "nbconvert_exporter": "python",
   "pygments_lexer": "ipython3",
   "version": "3.13.2"
  }
 },
 "nbformat": 4,
 "nbformat_minor": 5
}
